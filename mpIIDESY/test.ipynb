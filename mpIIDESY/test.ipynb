{
 "cells": [
  {
   "cell_type": "code",
   "execution_count": 55,
   "metadata": {},
   "outputs": [
    {
     "name": "stdout",
     "output_type": "stream",
     "text": [
      "\n",
      " ~/rootlogon.C loaded with !!4 sig.fig.!! for custom Opt Fit and Stat!\n",
      "\n"
     ]
    }
   ],
   "source": [
    "import sys\n",
    "sys.path.append(\"/usr/local/Cellar/root/6.14.04_2/lib/root\")\n",
    "\n",
    "import argparse, sys, os\n",
    "import os.path\n",
    "import subprocess\n",
    "from ROOT import TFile, TStyle, TCanvas, gStyle, TF1, TPaveStats, gPad\n",
    "from scipy import stats\n",
    "import matplotlib.pyplot as plt \n",
    "from matplotlib.ticker import MaxNLocator\n",
    "from matplotlib.ticker import FormatStrFormatter\n",
    "import matplotlib.ticker as ticker\n",
    "import numpy as np\n",
    "from scipy import stats\n",
    "import itertools\n",
    "import re\n",
    "import pandas as pd\n",
    "from ROOT import TH1F, TH2F, TF1, TCanvas, TStyle, gROOT, gStyle, TColor \n",
    "\n",
    "def SetMyStyle():\n",
    "  print(\"\\n ~/rootlogon.C loaded with !!4 sig.fig.!! for custom Opt Fit and Stat!\\n\")\n",
    "  MyStyle = myStyle()\n",
    "  gROOT.SetStyle(\"MyStyle\")\n",
    "  gROOT.ForceStyle()\n",
    "\n",
    "\n",
    "def myStyle():\n",
    "  myStyle  = TStyle(\"MyStyle\", \"My Root Styles\")\n",
    "  #Canvas\n",
    "  myStyle.SetCanvasBorderMode(0)  # Transparent\n",
    "  myStyle.SetCanvasColor(0) # Transparent \n",
    "  #Paper, Pad, Palette, Frame\n",
    "  myStyle.SetPadBorderMode(0) # Transparent \n",
    "  myStyle.SetPadColor(0) # Transparent \n",
    "  myStyle.SetPalette(1) # Default \n",
    "  myStyle.SetFrameBorderMode(1) # Border\n",
    "   # Axis \n",
    "  myStyle.SetLabelSize(0.04, \"xyz\") # size of axis values\n",
    "  myStyle.SetTitleSize(0.04, \"xyz\")\n",
    "  myStyle.SetPadTickX(1)\n",
    "  myStyle.SetPadTickY(1)\n",
    "  # Title \n",
    "  myStyle.SetTitleColor(0) # Black \n",
    "  myStyle.SetTitleStyle(0) # Transparent \n",
    "  myStyle.SetTitleBorderSize(0) # Transparent\n",
    "  myStyle.SetTitleY(0.97) # Set y-position (fraction of pad size)\n",
    "  myStyle.SetTitleX(0.4) # Set x-position (fraction of pad size)\n",
    "  # #Stat box dimensions, position and style \n",
    "  myStyle.SetStatY(0.89) # Set y-position (fraction of pad size)\n",
    "  myStyle.SetStatX(0.89) # Set x-position (fraction of pad size)\n",
    "  myStyle.SetStatW(0.36) # Set width of stat-box (fraction of pad size)\n",
    "  myStyle.SetStatH(0.12) # Set height of stat-box (fraction of pad size)\n",
    "  myStyle.SetStatStyle(0) # Transparent \n",
    "  myStyle.SetStatColor(0)  # Transparent\n",
    "  myStyle.SetStatBorderSize(1) # Transparent\n",
    "  # Histo Filling (visual)\n",
    "  myStyle.SetHistFillColor(0)\n",
    "  myStyle.SetHistFillStyle(0)      \n",
    "  # Stats display options \n",
    "  #myStyle.SetOptStat(\"ourRmMe\") #over/under -flows, Rms and Means with errors, number of entries\n",
    "  myStyle.SetOptStat(\"neouRM\") #over/under -flows, Rms and Means with errors, number of entries\n",
    "  myStyle.SetOptFit(1111)  #probability, Chi2, errors, name/values of parameters\n",
    "  myStyle.SetStatFormat(\"11.4f\")  # 4 sig.fig, f=float\n",
    "\n",
    "  return myStyle\n",
    "\n",
    "\n",
    "def getOffsets(f, name):\n",
    "    offsets = [] #tmp storage buffer \n",
    "    for line in f:\n",
    "        if re.match(name, line):\n",
    "            copy = True\n",
    "            offsets=line \n",
    "\n",
    "        else:\n",
    "            copy = False\n",
    "\n",
    "    return offsets   \n",
    "\n",
    "SetMyStyle() "
   ]
  },
  {
   "cell_type": "code",
   "execution_count": 59,
   "metadata": {},
   "outputs": [
    {
     "name": "stderr",
     "output_type": "stream",
     "text": [
      "Warning in <TCanvas::Constructor>: Deleting canvas with same name: c_ver\n"
     ]
    },
    {
     "data": {
      "image/png": "[encoded data removed]",
      "text/plain": [
       "<IPython.core.display.Image object>"
      ]
     },
     "metadata": {},
     "output_type": "display_data"
    }
   ],
   "source": [
    "#Define constants \n",
    "station12Path = \"Extrapolation/vertices/station12/pValue>0.005_and_noVolumesHit/\"\n",
    "station18Path = \"Extrapolation/vertices/station18/pValue>0.005_and_noVolumesHit/\"\n",
    "plotNames=[\"h_radialPos_vs_time\", \"h_verticalPos_vs_time\"]\n",
    "\n",
    "#Open TFile\n",
    "scr = \"/Users/gleb/software/alignTrack/mpIIDESY/Systematics_ana/nominal/trackRecoPlots.root\"\n",
    "scrFile = TFile.Open(scr)\n",
    "\n",
    "#Get TH2F histo \n",
    "s12_ver_2D = scrFile.Get(str(station12Path)+plotNames[1]) \n",
    "\n",
    "#Make new canvas for plots \n",
    "c_ver = TCanvas(\"c_ver\", \"Vertical Projection\", 800, 600)\n",
    "c_ver.Divide(1,1)\n",
    "\n",
    "# #Apply 30 us time cut \n",
    "first_bin = s12_ver_2D.GetXaxis().FindBin(30.0) \n",
    "\n",
    "# Project the beam postion into 1D histo\n",
    "s12_ver_Y = s12_ver_2D.ProjectionY(\"\", first_bin, -1)\n",
    "s12_ver_Y.SetTitle(\"\")\n",
    "s12_ver_Y.GetXaxis().SetTitle(\"[mm]\")\n",
    "s12_ver_Y.GetXaxis().SetRangeUser(-60, 60)\n",
    "\n",
    "s12_ver_Y.Draw()\n",
    "\n",
    "c_ver.Draw()"
   ]
  },
  {
   "cell_type": "code",
   "execution_count": null,
   "metadata": {},
   "outputs": [],
   "source": []
  }
 ],
 "metadata": {
  "kernelspec": {
   "display_name": "Python 3",
   "language": "python",
   "name": "python3"
  },
  "language_info": {
   "codemirror_mode": {
    "name": "ipython",
    "version": 3
   },
   "file_extension": ".py",
   "mimetype": "text/x-python",
   "name": "python",
   "nbconvert_exporter": "python",
   "pygments_lexer": "ipython3",
   "version": "3.7.0"
  }
 },
 "nbformat": 4,
 "nbformat_minor": 2
}
