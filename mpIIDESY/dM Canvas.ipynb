{
 "cells": [
  {
   "cell_type": "code",
   "execution_count": 3,
   "metadata": {},
   "outputs": [
    {
     "name": "stdout",
     "output_type": "stream",
     "text": [
      "~/rootlogon.py loaded with !!!4 sig.fig.!!! for custom Opt Fit and Stat!\n"
     ]
    },
    {
     "ename": "NameError",
     "evalue": "name 'TStyle' is not defined",
     "output_type": "error",
     "traceback": [
      "\u001b[0;31m---------------------------------------------------------------------------\u001b[0m",
      "\u001b[0;31mNameError\u001b[0m                                 Traceback (most recent call last)",
      "\u001b[0;32m<ipython-input-3-41d9bbc18bb3>\u001b[0m in \u001b[0;36m<module>\u001b[0;34m\u001b[0m\n\u001b[1;32m     18\u001b[0m \u001b[0;32mfrom\u001b[0m \u001b[0mROOT\u001b[0m \u001b[0;32mimport\u001b[0m \u001b[0mTH1F\u001b[0m\u001b[0;34m,\u001b[0m \u001b[0mTF1\u001b[0m\u001b[0;34m,\u001b[0m \u001b[0mTCanvas\u001b[0m\u001b[0;34m,\u001b[0m \u001b[0mTPaveText\u001b[0m\u001b[0;34m\u001b[0m\u001b[0m\n\u001b[1;32m     19\u001b[0m \u001b[0msys\u001b[0m\u001b[0;34m.\u001b[0m\u001b[0mpath\u001b[0m\u001b[0;34m.\u001b[0m\u001b[0mappend\u001b[0m\u001b[0;34m(\u001b[0m\u001b[0mos\u001b[0m\u001b[0;34m.\u001b[0m\u001b[0mpath\u001b[0m\u001b[0;34m.\u001b[0m\u001b[0mabspath\u001b[0m\u001b[0;34m(\u001b[0m\u001b[0;34m\"/Users/gleb\"\u001b[0m\u001b[0;34m)\u001b[0m\u001b[0;34m)\u001b[0m\u001b[0;34m\u001b[0m\u001b[0m\n\u001b[0;32m---> 20\u001b[0;31m \u001b[0;32mfrom\u001b[0m \u001b[0mrootlogon\u001b[0m \u001b[0;32mimport\u001b[0m \u001b[0mSetMyStyle\u001b[0m\u001b[0;34m,\u001b[0m \u001b[0mmyStyle\u001b[0m\u001b[0;34m\u001b[0m\u001b[0m\n\u001b[0m\u001b[1;32m     21\u001b[0m \u001b[0mSetMyStyle\u001b[0m\u001b[0;34m(\u001b[0m\u001b[0;34m)\u001b[0m\u001b[0;34m\u001b[0m\u001b[0m\n",
      "\u001b[0;32m/usr/local/Cellar/root/6.14.04_2/lib/root/ROOT.py\u001b[0m in \u001b[0;36m_importhook\u001b[0;34m(name, *args, **kwds)\u001b[0m\n\u001b[1;32m    459\u001b[0m       \u001b[0;32mexcept\u001b[0m \u001b[0mException\u001b[0m\u001b[0;34m:\u001b[0m\u001b[0;34m\u001b[0m\u001b[0m\n\u001b[1;32m    460\u001b[0m          \u001b[0;32mpass\u001b[0m\u001b[0;34m\u001b[0m\u001b[0m\n\u001b[0;32m--> 461\u001b[0;31m    \u001b[0;32mreturn\u001b[0m \u001b[0m_orig_ihook\u001b[0m\u001b[0;34m(\u001b[0m \u001b[0mname\u001b[0m\u001b[0;34m,\u001b[0m \u001b[0;34m*\u001b[0m\u001b[0margs\u001b[0m\u001b[0;34m,\u001b[0m \u001b[0;34m**\u001b[0m\u001b[0mkwds\u001b[0m \u001b[0;34m)\u001b[0m\u001b[0;34m\u001b[0m\u001b[0m\n\u001b[0m\u001b[1;32m    462\u001b[0m \u001b[0;34m\u001b[0m\u001b[0m\n\u001b[1;32m    463\u001b[0m \u001b[0m__builtin__\u001b[0m\u001b[0;34m.\u001b[0m\u001b[0m__import__\u001b[0m \u001b[0;34m=\u001b[0m \u001b[0m_importhook\u001b[0m\u001b[0;34m\u001b[0m\u001b[0m\n",
      "\u001b[0;32m~/software/alignTrack/mpIIDESY/rootlogon.py\u001b[0m in \u001b[0;36m<module>\u001b[0;34m\u001b[0m\n\u001b[1;32m      4\u001b[0m \u001b[0mprint\u001b[0m\u001b[0;34m(\u001b[0m\u001b[0;34m\"~/rootlogon.py loaded with !!!4 sig.fig.!!! for custom Opt Fit and Stat!\"\u001b[0m\u001b[0;34m)\u001b[0m\u001b[0;34m\u001b[0m\u001b[0m\n\u001b[1;32m      5\u001b[0m \u001b[0;34m\u001b[0m\u001b[0m\n\u001b[0;32m----> 6\u001b[0;31m \u001b[0mmyStyle\u001b[0m  \u001b[0;34m=\u001b[0m \u001b[0mTStyle\u001b[0m\u001b[0;34m(\u001b[0m\u001b[0;34m\"MyStyle\"\u001b[0m\u001b[0;34m,\u001b[0m \u001b[0;34m\"My Root Styles\"\u001b[0m\u001b[0;34m)\u001b[0m\u001b[0;34m\u001b[0m\u001b[0m\n\u001b[0m\u001b[1;32m      7\u001b[0m \u001b[0;34m\u001b[0m\u001b[0m\n\u001b[1;32m      8\u001b[0m \u001b[0;31m#Canvas\u001b[0m\u001b[0;34m\u001b[0m\u001b[0;34m\u001b[0m\u001b[0m\n",
      "\u001b[0;31mNameError\u001b[0m: name 'TStyle' is not defined"
     ]
    }
   ],
   "source": [
    "import sys\n",
    "sys.path.append(\"/usr/local/Cellar/root/6.14.04_2/lib/root\")\n",
    "\n",
    "import argparse, sys, os\n",
    "import os.path\n",
    "import subprocess\n",
    "from ROOT import TFile, TStyle, TCanvas, gStyle, TF1, TPaveStats, gPad\n",
    "from scipy import stats\n",
    "import matplotlib.pyplot as plt \n",
    "from matplotlib.ticker import MaxNLocator\n",
    "from matplotlib.ticker import FormatStrFormatter\n",
    "import matplotlib.ticker as ticker\n",
    "import numpy as np\n",
    "from scipy import stats\n",
    "import itertools\n",
    "import re\n",
    "import pandas as pd\n",
    "from ROOT import TH1F, TF1, TCanvas, TPaveText\n",
    "sys.path.append(os.path.abspath(\"/Users/gleb\"))\n",
    "from rootlogon import SetMyStyle, myStyle\n",
    "SetMyStyle()\n"
   ]
  },
  {
   "cell_type": "code",
   "execution_count": null,
   "metadata": {},
   "outputs": [],
   "source": [
    "S12_dm_rad=np.zeros(25)\n",
    "S12_ds_rad=np.ones(25)\n",
    "S18_dm_rad=np.zeros(25)\n",
    "S18_ds_rad=np.ones(25)\n",
    "dirName = \"xx\"\n",
    "\n",
    "radVal = [S12_dm_rad, S18_dm_rad, S12_ds_rad,  S18_ds_rad]\n",
    "\n",
    "\n",
    "radBinsN = 10\n",
    "radBinMax = 0.01*1e3\n",
    "c_rad = TCanvas(\"c_rad\", \"Radial Histograms\", 4200, 4200)\n",
    "c_rad.Divide(2,2)\n",
    "h1r=TH1F(\"S12: d(Radial Mean)\", str(dirName), radBinsN, -radBinMax, radBinMax)\n",
    "h2r=TH1F(\"S18: d(Radial Mean)\", str(dirName), radBinsN, -radBinMax, radBinMax)\n",
    "h3r=TH1F(\"S12: d(Radial SD)\", str(dirName), radBinsN, -radBinMax, radBinMax)\n",
    "h4r=TH1F(\"S18: d(Radial SD)\", str(dirName), radBinsN, -radBinMax, radBinMax)\n",
    "\n",
    "histos = [h1r, h2r, h3r, h4r]\n",
    "\n",
    "\n",
    "\n",
    "for i, histo in enumerate(histos):\n",
    "    for value in radVal[i]:\n",
    "        for i_value in value:\n",
    "            histo.Fill(float(i_value*1e3))\n",
    "\n",
    "for i, histo in enumerate(histos):      \n",
    "    c_rad.cd(i+1)\n",
    "    histo.Draw()\n",
    "\n",
    "c_rad.Draw()"
   ]
  },
  {
   "cell_type": "code",
   "execution_count": null,
   "metadata": {},
   "outputs": [],
   "source": []
  }
 ],
 "metadata": {
  "kernelspec": {
   "display_name": "Python 3",
   "language": "python",
   "name": "python3"
  },
  "language_info": {
   "codemirror_mode": {
    "name": "ipython",
    "version": 3
   },
   "file_extension": ".py",
   "mimetype": "text/x-python",
   "name": "python",
   "nbconvert_exporter": "python",
   "pygments_lexer": "ipython3",
   "version": "3.7.0"
  }
 },
 "nbformat": 4,
 "nbformat_minor": 2
}
