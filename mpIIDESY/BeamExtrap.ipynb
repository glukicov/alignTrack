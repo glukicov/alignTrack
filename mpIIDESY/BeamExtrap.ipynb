{
 "cells": [
  {
   "cell_type": "code",
   "execution_count": 1,
   "metadata": {},
   "outputs": [
    {
     "name": "stdout",
     "output_type": "stream",
     "text": [
      "Welcome to JupyROOT 6.14/04\n"
     ]
    }
   ],
   "source": [
    "import sys, os \n",
    "sys.path.append(\"/usr/local/Cellar/root/6.14.04_2/lib/root\") # add ROOTv6 \n",
    "from ROOT import TFile, TStyle, TCanvas, gStyle, TF1, TPaveStats, gPad"
   ]
  },
  {
   "cell_type": "code",
   "execution_count": 2,
   "metadata": {},
   "outputs": [],
   "source": [
    "# %load ~/rootlogon.py\n",
    "from ROOT import TStyle, gROOT, gStyle, TColor \n",
    "\n",
    "def SetMyStyle():\n",
    "  print(\"\\n ~/rootlogon.C loaded with !!4 sig.fig.!! for custom Opt Fit and Stat!\\n\")\n",
    "  MyStyle = myStyle()\n",
    "  gROOT.SetStyle(\"MyStyle\")\n",
    "  gROOT.ForceStyle()\n",
    "\n",
    "\n",
    "def myStyle():\n",
    "  myStyle  = TStyle(\"MyStyle\", \"My Root Styles\")\n",
    "  #Canvas\n",
    "  myStyle.SetCanvasBorderMode(0)  # Transparent\n",
    "  myStyle.SetCanvasColor(0) # Transparent \n",
    "  #Paper, Pad, Palette, Frame\n",
    "  myStyle.SetPadBorderMode(0) # Transparent \n",
    "  myStyle.SetPadColor(0) # Transparent \n",
    "  myStyle.SetPalette(1) # Default \n",
    "  myStyle.SetFrameBorderMode(1) # Border\n",
    "   # Axis \n",
    "  myStyle.SetLabelSize(0.04, \"xyz\") # size of axis values\n",
    "  myStyle.SetTitleSize(0.04, \"xyz\")\n",
    "  myStyle.SetPadTickX(1)\n",
    "  myStyle.SetPadTickY(1)\n",
    "  # Title \n",
    "  myStyle.SetTitleColor(1) # Black \n",
    "  myStyle.SetTitleStyle(0) # Transparent \n",
    "  myStyle.SetTitleBorderSize(0) # Transparent\n",
    "  myStyle.SetTitleY(0.97) # Set y-position (fraction of pad size)\n",
    "  myStyle.SetTitleX(0.4) # Set x-position (fraction of pad size)\n",
    "  # #Stat box dimensions, position and style \n",
    "  myStyle.SetStatY(0.89) # Set y-position (fraction of pad size)\n",
    "  myStyle.SetStatX(0.89) # Set x-position (fraction of pad size)\n",
    "  myStyle.SetStatW(0.36) # Set width of stat-box (fraction of pad size)\n",
    "  myStyle.SetStatH(0.12) # Set height of stat-box (fraction of pad size)\n",
    "  myStyle.SetStatStyle(0) # Transparent \n",
    "  myStyle.SetStatColor(0)  # Transparent\n",
    "  myStyle.SetStatBorderSize(1) # Transparent\n",
    "  # Histo Filling (visual)\n",
    "  myStyle.SetHistFillColor(8)\n",
    "  myStyle.SetHistFillStyle(3014)      \n",
    "  # Stats display options \n",
    "  #myStyle.SetOptStat(\"ourRmMe\") #over/under -flows, Rms and Means with errors, number of entries\n",
    "  myStyle.SetOptStat(\"neouRM\") #over/under -flows, Rms and Means with errors, number of entries\n",
    "  myStyle.SetOptFit(1111)  #probability, Chi2, errors, name/values of parameters\n",
    "  myStyle.SetStatFormat(\"11.4f\")  # 4 sig.fig, f=float\n",
    "\n",
    "  return myStyle"
   ]
  },
  {
   "cell_type": "code",
   "execution_count": 37,
   "metadata": {},
   "outputs": [
    {
     "name": "stdout",
     "output_type": "stream",
     "text": [
      "\n",
      " ~/rootlogon.C loaded with !!4 sig.fig.!! for custom Opt Fit and Stat!\n",
      "\n"
     ]
    }
   ],
   "source": [
    "SetMyStyle()"
   ]
  },
  {
   "cell_type": "code",
   "execution_count": 3,
   "metadata": {},
   "outputs": [],
   "source": [
    "# %load /Users/gleb/software/gm2Style/gm2Style.py\n",
    "from ROOT import TStyle, gROOT \n",
    "\n",
    "\n",
    "def SetGm2Style():\n",
    "    print(\"Applying g-2 style settings...\")\n",
    "    Gm2Style = gm2Style()\n",
    "    gROOT.SetStyle(\"gm2\")\n",
    "    gROOT.ForceStyle()\n",
    "\n",
    "\n",
    "def gm2Style():\n",
    "\n",
    "    gm2Style = TStyle(\"gm2\",\"gm2 style\")\n",
    "\n",
    "    #use plain black on white colors\n",
    "    icol=0 # WHITE\n",
    "    gm2Style.SetFrameBorderMode(icol)\n",
    "    gm2Style.SetFrameFillColor(icol)\n",
    "    gm2Style.SetCanvasBorderMode(icol)\n",
    "    gm2Style.SetCanvasColor(icol)\n",
    "    gm2Style.SetPadBorderMode(icol)\n",
    "    gm2Style.SetPadColor(icol)\n",
    "    gm2Style.SetStatColor(icol)\n",
    "\n",
    "    #set the paper & margin sizes\n",
    "    gm2Style.SetPaperSize(20,26)\n",
    "\n",
    "    #set margin sizes\n",
    "    gm2Style.SetPadTopMargin(0.05)\n",
    "    gm2Style.SetPadRightMargin(0.05)\n",
    "    gm2Style.SetPadBottomMargin(0.16)\n",
    "    gm2Style.SetPadLeftMargin(0.16)\n",
    "\n",
    "    #set title offsets (for axis label)\n",
    "    gm2Style.SetTitleXOffset(1.4)\n",
    "    gm2Style.SetTitleYOffset(1.4)\n",
    "\n",
    "    #use large fonts\n",
    "    font=72 # Helvetica italics\n",
    "    font=42 # Helvetica\n",
    "    tsize=0.05\n",
    "    gm2Style.SetTextFont(font)\n",
    "\n",
    "    gm2Style.SetTextSize(tsize)\n",
    "    gm2Style.SetLabelFont(font,\"x\")\n",
    "    gm2Style.SetTitleFont(font,\"x\")\n",
    "    gm2Style.SetLabelFont(font,\"y\")\n",
    "    gm2Style.SetTitleFont(font,\"y\")\n",
    "    gm2Style.SetLabelFont(font,\"z\")\n",
    "    gm2Style.SetTitleFont(font,\"z\")\n",
    "\n",
    "    gm2Style.SetLabelSize(tsize,\"x\")\n",
    "    gm2Style.SetTitleSize(tsize,\"x\")\n",
    "    gm2Style.SetLabelSize(tsize,\"y\")\n",
    "    gm2Style.SetTitleSize(tsize,\"y\")\n",
    "    gm2Style.SetLabelSize(tsize,\"z\")\n",
    "    gm2Style.SetTitleSize(tsize,\"z\")\n",
    "\n",
    "   #use bold lines and markers\n",
    "    gm2Style.SetMarkerStyle(20)\n",
    "    gm2Style.SetMarkerSize(1.2)\n",
    "    gm2Style.SetHistLineWidth(2)\n",
    "    gm2Style.SetLineStyleString(2,\"[12 12]\") # postscript dashes\n",
    "\n",
    "    #get rid of X error bars (as recommended in ATLAS figure guidelines)\n",
    "    gm2Style.SetErrorX(0.0001)\n",
    "    # get rid of error bar caps\n",
    "    gm2Style.SetEndErrorSize(0.)\n",
    "\n",
    "    #do not display any of the standard histogram decorations\n",
    "    gm2Style.SetOptTitle(0)\n",
    "    gm2Style.SetOptStat(0)\n",
    "    gm2Style.SetOptFit(0)\n",
    "\n",
    "    #put tick marks on top and RHS of plots\n",
    "    gm2Style.SetPadTickX(1)\n",
    "    gm2Style.SetPadTickY(1)\n",
    "\n",
    "    return gm2Style\n",
    "\n",
    "\n",
    "\n"
   ]
  },
  {
   "cell_type": "code",
   "execution_count": 7,
   "metadata": {},
   "outputs": [
    {
     "name": "stdout",
     "output_type": "stream",
     "text": [
      "Applying g-2 style settings...\n"
     ]
    }
   ],
   "source": [
    "\n",
    "SetGm2Style()"
   ]
  },
  {
   "cell_type": "code",
   "execution_count": null,
   "metadata": {},
   "outputs": [],
   "source": []
  },
  {
   "cell_type": "code",
   "execution_count": 22,
   "metadata": {},
   "outputs": [],
   "source": [
    "#TODO put in loops over np-arrays (i.e. dont use for!)\n",
    "\n",
    "file_run1 = TFile.Open(\"Extrap/run1/trackRecoPlots.root\")\n",
    "file_run5 = TFile.Open(\"Extrap/run5/trackRecoPlots.root\")\n",
    "station12Path = \"Extrapolation/vertices/station12/pValue>0.005_and_noVolumesHit/\"\n",
    "station18Path = \"Extrapolation/vertices/station18/pValue>0.005_and_noVolumesHit/\"\n",
    "\n",
    "plotNames=[\"h_radialPos\", \"h_verticalPos\"]\n",
    "\n",
    "s12_rad_run1 = file_run1.Get(str(station12Path)+plotNames[0])\n",
    "s18_rad_run1 = file_run1.Get(str(station18Path)+plotNames[0])\n",
    "s12_ver_run1 = file_run1.Get(str(station12Path)+plotNames[1])\n",
    "s18_ver_run1 = file_run1.Get(str(station18Path)+plotNames[1])\n",
    "\n",
    "s12_rad_run5 = file_run5.Get(str(station12Path)+plotNames[0])\n",
    "s18_rad_run5 = file_run5.Get(str(station18Path)+plotNames[0])\n",
    "s12_ver_run5 = file_run5.Get(str(station12Path)+plotNames[1])\n",
    "s18_ver_run5 = file_run5.Get(str(station18Path)+plotNames[1])\n"
   ]
  },
  {
   "cell_type": "code",
   "execution_count": 39,
   "metadata": {},
   "outputs": [
    {
     "data": {
      "image/png": "[encoded data removed]",
      "text/plain": [
       "<IPython.core.display.Image object>"
      ]
     },
     "metadata": {},
     "output_type": "display_data"
    }
   ],
   "source": [
    "c=TCanvas()\n",
    "st = gPad.GetPrimitive(\"stats\")\n",
    "# # st.SetName(newname)\n",
    "# st.SetX1NDC(newx1) #new x start position\n",
    "# st.SetX2NDC(newx2) #new x end position\n",
    "s12_rad_run1.Draw()\n",
    "s12_rad_run1.SetLineColor(2)\n",
    "s12_rad_run5.SetLineColor(3)\n",
    "s12_rad_run5.Draw(\"sames\")\n",
    "c.Draw()"
   ]
  },
  {
   "cell_type": "code",
   "execution_count": 24,
   "metadata": {},
   "outputs": [
    {
     "data": {
      "image/png": "[encoded data removed]",
      "text/plain": [
       "<IPython.core.display.Image object>"
      ]
     },
     "metadata": {},
     "output_type": "display_data"
    }
   ],
   "source": [
    "c=TCanvas()\n",
    "s12_ver_run1.Draw()\n",
    "s12_ver_run1.SetLineColor(2)\n",
    "s12_ver_run5.Draw(\"SAME\")\n",
    "s12_ver_run5.SetLineColor(3)\n",
    "\n",
    "c.Draw()"
   ]
  },
  {
   "cell_type": "code",
   "execution_count": 26,
   "metadata": {},
   "outputs": [
    {
     "data": {
      "image/png": "[encoded data removed]",
      "text/plain": [
       "<IPython.core.display.Image object>"
      ]
     },
     "metadata": {},
     "output_type": "display_data"
    }
   ],
   "source": [
    "c=TCanvas()\n",
    "s18_rad_run1.Draw()\n",
    "s18_rad_run1.SetLineColor(2)\n",
    "s18_rad_run5.Draw(\"SAME\")\n",
    "s18_rad_run5.SetLineColor(3)\n",
    "\n",
    "c.Draw()"
   ]
  },
  {
   "cell_type": "code",
   "execution_count": 25,
   "metadata": {},
   "outputs": [
    {
     "data": {
      "image/png": "[encoded data removed]",
      "text/plain": [
       "<IPython.core.display.Image object>"
      ]
     },
     "metadata": {},
     "output_type": "display_data"
    }
   ],
   "source": [
    "c=TCanvas()\n",
    "s18_ver_run1.Draw()\n",
    "s18_ver_run1.SetLineColor(2)\n",
    "s18_ver_run5.Draw(\"SAME\")\n",
    "s18_ver_run5.SetLineColor(3)\n",
    "\n",
    "c.Draw()"
   ]
  },
  {
   "cell_type": "code",
   "execution_count": 27,
   "metadata": {},
   "outputs": [],
   "source": [
    "# from ROOT import JSROOT\n",
    "# enableJSVis()\n",
    "# c.Draw()\n",
    "# disableJSVis()"
   ]
  },
  {
   "cell_type": "code",
   "execution_count": null,
   "metadata": {},
   "outputs": [],
   "source": []
  }
 ],
 "metadata": {
  "kernelspec": {
   "display_name": "Python 3",
   "language": "python",
   "name": "python3"
  },
  "language_info": {
   "codemirror_mode": {
    "name": "ipython",
    "version": 3
   },
   "file_extension": ".py",
   "mimetype": "text/x-python",
   "name": "python",
   "nbconvert_exporter": "python",
   "pygments_lexer": "ipython3",
   "version": "3.7.0"
  }
 },
 "nbformat": 4,
 "nbformat_minor": 2
}
