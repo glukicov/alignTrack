{
 "cells": [
  {
   "cell_type": "code",
   "execution_count": null,
   "metadata": {},
   "outputs": [
    {
     "name": "stdout",
     "output_type": "stream",
     "text": [
      "Welcome to JupyROOT 6.14/04\n"
     ]
    }
   ],
   "source": [
    "import sys\n",
    "sys.path.append(\"/usr/local/Cellar/root/6.14.04_2/lib/root\")\n",
    "\n",
    "import argparse, sys, os\n",
    "import os.path\n",
    "import subprocess\n",
    "from ROOT import TFile, TStyle, TCanvas, gStyle, TF1, TPaveStats, gPad\n",
    "from scipy import stats\n",
    "import matplotlib.pyplot as plt \n",
    "from matplotlib.ticker import MaxNLocator\n",
    "from matplotlib.ticker import FormatStrFormatter\n",
    "import matplotlib.ticker as ticker\n",
    "import numpy as np\n",
    "from scipy import stats\n",
    "import itertools\n",
    "import re\n",
    "import pandas as pd\n",
    "from ROOT import TH1F, TF1, TCanvas, TPaveText\n",
    "sys.path.append(os.path.abspath(\"/Users/gleb\"))\n",
    "from rootlogon import SetMyStyle, myStyle\n",
    "SetMyStyle()\n"
   ]
  },
  {
   "cell_type": "code",
   "execution_count": null,
   "metadata": {},
   "outputs": [],
   "source": [
    "S12_dm_rad=np.zeros(25)\n",
    "S12_ds_rad=np.ones(25)\n",
    "S18_dm_rad=np.zeros(25)\n",
    "S18_ds_rad=np.ones(25)\n",
    "dirName = \"xx\"\n",
    "\n",
    "radVal = [S12_dm_rad, S18_dm_rad, S12_ds_rad,  S18_ds_rad]\n",
    "\n",
    "\n",
    "radBinsN = 10\n",
    "radBinMax = 0.01*1e3\n",
    "c_rad = TCanvas(\"c_rad\", \"Radial Histograms\", 4200, 4200)\n",
    "c_rad.Divide(2,2)\n",
    "h1r=TH1F(\"S12: d(Radial Mean)\", str(dirName), radBinsN, -radBinMax, radBinMax)\n",
    "h2r=TH1F(\"S18: d(Radial Mean)\", str(dirName), radBinsN, -radBinMax, radBinMax)\n",
    "h3r=TH1F(\"S12: d(Radial SD)\", str(dirName), radBinsN, -radBinMax, radBinMax)\n",
    "h4r=TH1F(\"S18: d(Radial SD)\", str(dirName), radBinsN, -radBinMax, radBinMax)\n",
    "\n",
    "histos = [h1r, h2r, h3r, h4r]\n",
    "\n",
    "\n",
    "\n",
    "for i, histo in enumerate(histos):\n",
    "    for value in radVal[i]:\n",
    "        for i_value in value:\n",
    "            histo.Fill(float(i_value*1e3))\n",
    "\n",
    "for i, histo in enumerate(histos):      \n",
    "    c_rad.cd(i+1)\n",
    "    histo.Draw()\n",
    "\n",
    "c_rad.Draw()"
   ]
  },
  {
   "cell_type": "code",
   "execution_count": null,
   "metadata": {},
   "outputs": [],
   "source": []
  }
 ],
 "metadata": {
  "kernelspec": {
   "display_name": "Python 3",
   "language": "python",
   "name": "python3"
  },
  "language_info": {
   "codemirror_mode": {
    "name": "ipython",
    "version": 3
   },
   "file_extension": ".py",
   "mimetype": "text/x-python",
   "name": "python",
   "nbconvert_exporter": "python",
   "pygments_lexer": "ipython3",
   "version": "3.7.0"
  }
 },
 "nbformat": 4,
 "nbformat_minor": 2
}
