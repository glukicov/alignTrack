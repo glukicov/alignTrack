{
 "cells": [
  {
   "cell_type": "code",
   "execution_count": 2,
   "metadata": {},
   "outputs": [
    {
     "name": "stdout",
     "output_type": "stream",
     "text": [
      "     0        1         2     3         4         5     6        7         8   \\\n",
      "0  1211  0.00000  0.000000  1212  0.000000  0.000000  1221 -0.32798  0.002241   \n",
      "1  1211  0.00000  0.000000  1212  0.000000  0.000000  1221 -0.33222  0.004118   \n",
      "2  1211  0.34396  0.002698  1212  0.015846  0.002444  1221  0.00000  0.000000   \n",
      "3  1211  0.30902  0.003766  1212  0.028045  0.002431  1221  0.00000  0.000000   \n",
      "\n",
      "     9     ...           32    33        34        35    36       37       38  \\\n",
      "0  1222    ...     0.000000  1272  0.000000  0.000000  1281  0.32301  0.00273   \n",
      "1  1222    ...     0.003689  1272 -0.055234  0.001654  1281  0.00000  0.00000   \n",
      "2  1222    ...     0.000000  1272  0.000000  0.000000  1281  0.21691  0.00230   \n",
      "3  1222    ...     0.002361  1272 -0.054113  0.001608  1281  0.00000  0.00000   \n",
      "\n",
      "     39        40        41  \n",
      "0  1282  0.061911  0.001928  \n",
      "1  1282  0.000000  0.000000  \n",
      "2  1282  0.061683  0.001929  \n",
      "3  1282  0.000000  0.000000  \n",
      "\n",
      "[4 rows x 42 columns]\n",
      "1282\n"
     ]
    }
   ],
   "source": [
    "# %load ../../RobustTrackerLaunch.py\n",
    "####################################################################\n",
    "# Sanity plots for Tracker Alignment.  \n",
    "# FoM Plots for comparison of actual misalignment vs PEDE results \n",
    "# Used as a final step of FixedFoM.py script \n",
    "# Can deal with removed modules from tacking\n",
    "#\n",
    "# Created: 29 November 2018 by Gleb Lukicov (UCL) g.lukicov@ucl.ac.uk\n",
    "# Modified: 29 November 2018 by Gleb\n",
    "#####################################################################\n",
    "\n",
    "import matplotlib.pyplot as plt\n",
    "import numpy as np \n",
    "import pandas as pd\n",
    "import argparse, sys\n",
    "\n",
    "\n",
    "#df = pd.read_csv(\"/Users/gleb/software/gm2code/PY/Python-Machine-Learning-Second-Edition/Chapter02/iris.data\", header=None) #offline\n",
    "df = pd.read_csv(\"PEDE_Mis_art.txt\", header=None, delim_whitespace=True) #offline\n",
    "\n",
    "# print(np.shape(df))\n",
    "# print(df[1][0]) # df[Element 0-41][Iteration 0-3]\n",
    "\n",
    "# Need to learn how to handle missing data \n",
    "# data munging, shaping \n",
    "\n",
    "print(df[:][:])\n",
    "\n",
    "print(df[39][1])\n"
   ]
  },
  {
   "cell_type": "code",
   "execution_count": null,
   "metadata": {},
   "outputs": [],
   "source": []
  }
 ],
 "metadata": {
  "kernelspec": {
   "display_name": "Python 3",
   "language": "python",
   "name": "python3"
  },
  "language_info": {
   "codemirror_mode": {
    "name": "ipython",
    "version": 3
   },
   "file_extension": ".py",
   "mimetype": "text/x-python",
   "name": "python",
   "nbconvert_exporter": "python",
   "pygments_lexer": "ipython3",
   "version": "3.7.0"
  }
 },
 "nbformat": 4,
 "nbformat_minor": 2
}
