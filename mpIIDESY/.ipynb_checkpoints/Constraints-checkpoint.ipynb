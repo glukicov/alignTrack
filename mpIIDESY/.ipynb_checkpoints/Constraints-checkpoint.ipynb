{
 "cells": [
  {
   "cell_type": "code",
   "execution_count": 28,
   "metadata": {},
   "outputs": [
    {
     "name": "stdout",
     "output_type": "stream",
     "text": [
      "1021 7\n",
      "1031 5\n",
      "1041 3\n",
      "1051 1\n",
      "1061 -1\n",
      "1071 -3\n",
      "1081 -5\n",
      "1091 -7\n"
     ]
    }
   ],
   "source": [
    "stationLabel = 10\n",
    "moduleN=8\n",
    "\n",
    "for i_module in range(1, moduleN+1):\n",
    "    label = str(stationLabel) + str(i_module+1) + str(1)\n",
    "    factor = ( moduleN + 1 - 2 * (i_module) )\n",
    "    print(label, factor)\n",
    "    "
   ]
  },
  {
   "cell_type": "code",
   "execution_count": null,
   "metadata": {},
   "outputs": [],
   "source": []
  }
 ],
 "metadata": {
  "kernelspec": {
   "display_name": "Python 3",
   "language": "python",
   "name": "python3"
  },
  "language_info": {
   "codemirror_mode": {
    "name": "ipython",
    "version": 3
   },
   "file_extension": ".py",
   "mimetype": "text/x-python",
   "name": "python",
   "nbconvert_exporter": "python",
   "pygments_lexer": "ipython3",
   "version": "3.7.0"
  }
 },
 "nbformat": 4,
 "nbformat_minor": 2
}
