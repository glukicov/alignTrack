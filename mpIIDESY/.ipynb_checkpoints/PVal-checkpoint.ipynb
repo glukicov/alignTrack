{
 "cells": [
  {
   "cell_type": "code",
   "execution_count": 2,
   "metadata": {},
   "outputs": [
    {
     "ename": "AttributeError",
     "evalue": "'TH1F' object has no attribute 'SetRangeUser'",
     "output_type": "error",
     "traceback": [
      "\u001b[0;31m---------------------------------------------------------------------------\u001b[0m",
      "\u001b[0;31mAttributeError\u001b[0m                            Traceback (most recent call last)",
      "\u001b[0;32m<ipython-input-2-397654ec9be9>\u001b[0m in \u001b[0;36m<module>\u001b[0;34m\u001b[0m\n\u001b[1;32m     35\u001b[0m \u001b[0;34m\u001b[0m\u001b[0m\n\u001b[1;32m     36\u001b[0m     \u001b[0;31m#Apply 30 us time cut\u001b[0m\u001b[0;34m\u001b[0m\u001b[0;34m\u001b[0m\u001b[0m\n\u001b[0;32m---> 37\u001b[0;31m     \u001b[0mpVal\u001b[0m\u001b[0;34m.\u001b[0m\u001b[0mSetRangeUser\u001b[0m\u001b[0;34m(\u001b[0m\u001b[0;36m0.005\u001b[0m\u001b[0;34m,\u001b[0m \u001b[0;36m1.0\u001b[0m\u001b[0;34m)\u001b[0m\u001b[0;34m\u001b[0m\u001b[0m\n\u001b[0m\u001b[1;32m     38\u001b[0m \u001b[0;34m\u001b[0m\u001b[0m\n\u001b[1;32m     39\u001b[0m     \u001b[0mpVal\u001b[0m\u001b[0;34m.\u001b[0m\u001b[0mSetTitle\u001b[0m\u001b[0;34m(\u001b[0m\u001b[0;34m\"\"\u001b[0m\u001b[0;34m)\u001b[0m\u001b[0;34m\u001b[0m\u001b[0m\n",
      "\u001b[0;31mAttributeError\u001b[0m: 'TH1F' object has no attribute 'SetRangeUser'"
     ]
    },
    {
     "name": "stderr",
     "output_type": "stream",
     "text": [
      "Warning in <TCanvas::Constructor>: Deleting canvas with same name: c_ver\n"
     ]
    }
   ],
   "source": [
    "# Juoyer ROOT import \n",
    "import sys\n",
    "sys.path.append(\"/usr/local/Cellar/root/6.14.04_2/lib/root\")\n",
    "# ROOT includes \n",
    "from ROOT import TH1F, TH2F, TF1, TCanvas, TFile, gStyle, TPaveText, TLegend\n",
    "\n",
    "#Define constant paths and labels \n",
    "path = \"TrackSummary/FitResults/pValues\"\n",
    "scr_nominal = \"/Users/gleb/software/alignTrack/mpIIDESY/PVal/S18/nominal/trackRecoPlots.root\"\n",
    "scr_shift = \"/Users/gleb/software/alignTrack/mpIIDESY/PVal/S18/200_22/trackRecoPlots.root\"\n",
    "# scr_shift = \"/Users/gleb/software/alignTrack/mpIIDESY/PVal/S18/200_21/trackRecoPlots.root\"\n",
    "stateN=2\n",
    "\n",
    "#Containers to store histograms in orders as the names \n",
    "names = [\"S18_nominal\", \"S18_200_22\"]\n",
    "colors = [8, 6] \n",
    "\n",
    "#Open TFiles\n",
    "scrFile_nominal = TFile.Open(scr_nominal)\n",
    "scrFile_shift = TFile.Open(scr_shift)\n",
    "fileName = [scrFile_nominal, scrFile_shift] # nominal (0) and global shift (1)\n",
    "\n",
    "###### Vertical ##########\n",
    "         \n",
    "#Make new canvas for plots \n",
    "c_ver = TCanvas(\"c_ver\", \"Vertical Projection\", 800, 600)\n",
    "legend =  TLegend(0.9, 0.89, 0.6, 0.4)\n",
    "\n",
    "i_total = 0 # total counter \n",
    "# TODO use 2D arrays next time \n",
    "for i_state in range(0, stateN):\n",
    "\n",
    "    #Get the TH2F \n",
    "    pVal = fileName[i_state].Get(str(path)) \n",
    "\n",
    "    #Apply 30 us time cut \n",
    "    pVal.GetXaxis().SetRangeUser(0.005, 1.0) \n",
    "\n",
    "    pVal.SetTitle(\"\")\n",
    "    pVal.SetLineColor(colors[i_total])\n",
    "    norm = pVal.GetEntries();\n",
    "    pVal.Scale(1/norm); # normalise the histo \n",
    "    pVal.GetYaxis().SetTitle(\"Enteries (Normalised 1/N)\")\n",
    "    pVal.GetYaxis().SetTitleOffset(1.4);\n",
    "    pVal.Draw(\"same\")\n",
    "\n",
    "    mean = round(pVal.GetMean(), 2)\n",
    "    mean_error = round(pVal.GetMeanError(), 2)\n",
    "\n",
    "    legenValue1 = str(names[i_total])+\": <p-val>:\"+str(mean)+\" #pm \"+str(mean_error) \n",
    "    legend.AddEntry(pVal, str(legenValue1), \"L\")\n",
    "    legend.Draw(\"same\")\n",
    "\n",
    "    i_total+=1 \n",
    "\n",
    "\n",
    "gStyle.SetOptStat(0) \n",
    "gStyle.SetOptFit(0)\n",
    "gStyle.SetLegendBorderSize(0)\n",
    "gStyle.SetLegendTextSize(0.023)\n",
    "c_ver.Draw()\n",
    "c_ver.Print(\"Pval.png\")"
   ]
  },
  {
   "cell_type": "code",
   "execution_count": null,
   "metadata": {},
   "outputs": [],
   "source": []
  }
 ],
 "metadata": {
  "kernelspec": {
   "display_name": "Python 3",
   "language": "python",
   "name": "python3"
  },
  "language_info": {
   "codemirror_mode": {
    "name": "ipython",
    "version": 3
   },
   "file_extension": ".py",
   "mimetype": "text/x-python",
   "name": "python",
   "nbconvert_exporter": "python",
   "pygments_lexer": "ipython3",
   "version": "3.7.0"
  }
 },
 "nbformat": 4,
 "nbformat_minor": 2
}
