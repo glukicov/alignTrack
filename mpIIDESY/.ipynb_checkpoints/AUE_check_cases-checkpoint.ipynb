{
 "cells": [
  {
   "cell_type": "code",
   "execution_count": 29,
   "metadata": {},
   "outputs": [
    {
     "name": "stdout",
     "output_type": "stream",
     "text": [
      "<ROOT.TFile object (\"/Users/gleb/software/alignTrack/mpIIDESY/P0_Off_100_Mis_U_B/0/trackRecoPlots.root\") at 0x7fac4a21a410>\n",
      "<ROOT.TH2F object (\"h_verticalPos_vs_time\") at 0x7fac483d4a00>\n",
      "tmpNameTH1_00\n",
      "<ROOT.TH1D object (\"tmpNameTH1_00\") at 0x7fac490d22d0>\n",
      "<ROOT.TFile object (\"/Users/gleb/software/alignTrack/mpIIDESY/P0_Off_100_Mis_U_B/1/trackRecoPlots.root\") at 0x7fac4a071810>\n",
      "<ROOT.TH2F object (\"h_verticalPos_vs_time\") at 0x7fac43326000>\n",
      "tmpNameTH1_11\n",
      "<ROOT.TH1D object (\"tmpNameTH1_11\") at 0x7fac495dc1b0>\n"
     ]
    },
    {
     "name": "stderr",
     "output_type": "stream",
     "text": [
      "Warning in <TCanvas::Constructor>: Deleting canvas with same name: s12_vertical\n",
      "Info in <TCanvas::Print>: png file s12_vertical.png has been created\n"
     ]
    },
    {
     "data": {
      "image/png": "[encoded data removed]",
      "text/plain": [
       "<IPython.core.display.Image object>"
      ]
     },
     "metadata": {},
     "output_type": "display_data"
    }
   ],
   "source": [
    "import sys, os\n",
    "sys.path.append(\"/usr/local/Cellar/root/6.14.04_2/lib/root\")\n",
    "\n",
    "from ROOT import TH1D, TH2D, TF1, TCanvas, TFile, gStyle, TLegend, gROOT\n",
    "\n",
    "#hack in the \"0th\" case at the front \n",
    "\n",
    "\n",
    "# TODO\n",
    "\n",
    "cases=[0, 1]\n",
    "# cases.insert(0, 0) \n",
    "# print(cases) \n",
    "\n",
    "station12Path = \"Extrapolation/vertices/station12/h_verticalPos_vs_time\"\n",
    "path=\"/Users/gleb/software/alignTrack/mpIIDESY/P0_Off_100_Mis_U_B\" \n",
    "label=\"High\"\n",
    "\n",
    "canvasName = \"s12_vertical\"\n",
    "canvasTitle = \"S12 Vertical\"\n",
    "legendName = cases \n",
    "colorHisto = moduleArray\n",
    "hitsTotal_s12_nom = - 1 # global container \n",
    "\n",
    "#create main canvas \n",
    "canvas = TCanvas(canvasName, canvasTitle, 800, 600)\n",
    "#Postion legend once per main loop accordingly \n",
    "legend =  TLegend( 0.87, 0.87, 0.59, 0.55) \n",
    "\n",
    "#now stack the dist.\n",
    "for i_total, i_case in enumerate(cases):\n",
    "    \n",
    "    #open the case root file \n",
    "    fullPath=path+\"/\"+str(i_case)\n",
    "    fileName=fullPath+\"/trackRecoPlots.root\"\n",
    "    scrFile = TFile.Open(fileName)\n",
    "    print(scrFile)  \n",
    "           \n",
    "    #Get the TH2F \n",
    "    histo_2D = scrFile.Get(station12Path)\n",
    "    print(histo_2D)\n",
    "    \n",
    "    #Apply 30 us time cut and get TH1\n",
    "    first_bin = histo_2D.GetXaxis().FindBin(30.0)\n",
    "    tmpNameTH1 = \"tmpNameTH1_\"+str(i_case)+str(i_total) # assign a new \"name pointer\" to the TH1 object for each loop \n",
    "    print(tmpNameTH1)\n",
    "    hist_1D = histo_2D.ProjectionY(tmpNameTH1, first_bin, -1)\n",
    "    print(hist_1D)\n",
    "    hist_1D.SetTitle(\"\")\n",
    "    hist_1D.GetXaxis().SetRangeUser(-60, 60) # applying a maximum range cut \n",
    "    hist_1D.GetYaxis().SetTitleOffset(1.4);\n",
    "    hist_1D.SetLineColor(colorHisto[i_total])\n",
    "    legenObject = hist_1D    \n",
    "    legenValue1 = str(legendName[i_total])\n",
    "    legend.AddEntry(legenObject,str(legenValue1),\"L\") \n",
    "    legend.SetTextSize(.028)\n",
    "    \n",
    "\n",
    "    # #Normalisation \n",
    "    # #only for nominal case\n",
    "    # if (i_case == 0):\n",
    "    #     hits_histo_nom = scrFile.Get(hitTimeHistoPath_s12)\n",
    "    #     first_bin_nom = hits_histo_nom.GetXaxis().FindBin(0.03) # get integral for 30us ->\n",
    "    #     last_bin_nom = hits_histo_nom.GetXaxis().FindBin(1.0) # get integral for 30us ->  \n",
    "    #     hitsTotal_s12_nom=hits_histo_nom.Integral(first_bin_nom, last_bin_nom) \n",
    "\n",
    "    # #all cases (inc. nominal)\n",
    "    # hits_histo = scrFile.Get(hitTimeHistoPath_s12)\n",
    "    # first_bin = hits_histo.GetXaxis().FindBin(0.03) # get integral for 30us ->\n",
    "    # last_bin = hits_histo.GetXaxis().FindBin(1.0) # get integral for 30us ->  \n",
    "    # hitsTotal_s12=hits_histo.Integral(first_bin, last_bin) \n",
    "\n",
    "    # # norm = hist_1D.GetEntries() / (hitsTotal_s12/hitsTotal_s12_nom)\n",
    "    # # hist_1D.Scale(norm); # normalise the histo \n",
    "    # # hist_1D.GetYaxis().SetTitle(\"Enteries (Normalised Tracks/(case_hits/nominal_hits))\")\n",
    "   \n",
    "    if (i_state == 0):\n",
    "        hist_1D.Draw(\"E1\")\n",
    "        hist_1D.Fit(gF, \"QR\") # quite fit over the specified range above\n",
    "                \n",
    "    else:\n",
    "        hist_1D.Draw(\"E1 same\")\n",
    "        hist_1D.Fit(gF, \"QR same\") # quite fit over the specified range above\n",
    "    \n",
    "    legend.Draw(\"same\")\n",
    "  \n",
    "           \n",
    "   \n",
    "\n",
    "#Do some final massagin and save to a file\n",
    "legend.SetHeader(canvasTitle+\" \"+str(label)+\" cases: \", \"C\"); # option \"C\" allows to center the header\n",
    "gStyle.SetOptStat(0)\n",
    "gStyle.SetOptFit(0)\n",
    "gStyle.SetLegendBorderSize(0)\n",
    "gStyle.SetLegendTextSize(0.023)\n",
    "canvas.Draw()\n",
    "canvas.Print(str(canvasName)+\".png\")\n"
   ]
  },
  {
   "cell_type": "code",
   "execution_count": null,
   "metadata": {},
   "outputs": [],
   "source": []
  }
 ],
 "metadata": {
  "kernelspec": {
   "display_name": "Python 3",
   "language": "python",
   "name": "python3"
  },
  "language_info": {
   "codemirror_mode": {
    "name": "ipython",
    "version": 3
   },
   "file_extension": ".py",
   "mimetype": "text/x-python",
   "name": "python",
   "nbconvert_exporter": "python",
   "pygments_lexer": "ipython3",
   "version": "3.7.0"
  }
 },
 "nbformat": 4,
 "nbformat_minor": 2
}
