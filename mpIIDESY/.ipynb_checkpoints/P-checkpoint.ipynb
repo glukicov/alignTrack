{
 "cells": [
  {
   "cell_type": "code",
   "execution_count": 14,
   "metadata": {},
   "outputs": [
    {
     "ename": "IndentationError",
     "evalue": "unexpected indent (<ipython-input-14-f9ecf7871f1d>, line 38)",
     "output_type": "error",
     "traceback": [
      "\u001b[0;36m  File \u001b[0;32m\"<ipython-input-14-f9ecf7871f1d>\"\u001b[0;36m, line \u001b[0;32m38\u001b[0m\n\u001b[0;31m    path=\"TrackSummaryS12/nPlanesHit/nPlanesHit\"\u001b[0m\n\u001b[0m    ^\u001b[0m\n\u001b[0;31mIndentationError\u001b[0m\u001b[0;31m:\u001b[0m unexpected indent\n"
     ]
    }
   ],
   "source": [
    "import sys\n",
    "import numpy as np\n",
    "sys.path.append(\"/usr/local/Cellar/root/6.16.00_3/lib/root\")\n",
    "from ROOT import TCanvas, TLegend, TFile, TH1, TH2, gStyle\n",
    "\n",
    "#File paths\n",
    "dataFile = \"/Users/gleb/software/alignTrack/mpIIDESY/MDC1_CBO/TP_15922.root\"\n",
    "simFile =  \"/Users/gleb//software/alignTrack/mpIIDESY/MDC1_CBO/TP_def.root\"\n",
    "simFile_truth =  \"/Users/gleb//software/alignTrack/mpIIDESY/MDC1_CBO/TP_truth.root\"\n",
    "simFile_res =  \"/Users/gleb//software/alignTrack/mpIIDESY/MDC1_CBO/TP_truth_res.root\"\n",
    "simFile_truthLRT0 =  \"/Users/gleb//software/alignTrack/mpIIDESY/MDC1_CBO/TP_truth_truthLRT0.root\"\n",
    "simFile_defLRT0 =  \"/Users/gleb//software/alignTrack/mpIIDESY/MDC1_CBO/TP_truth_defLRT0.root\"\n",
    "\n",
    "file_path = [dataFile, simFile, simFile_truth, simFile_res, simFile_truthLRT0, simFile_defLRT0]\n",
    "name_legend = [\"15922\", \"Sim: Default\", \"Sim: All truth\", \"Sim: All truth + res\", \"Sim: Truth LR/T0 only\", \"Sim: Gaussian + res only\"]\n",
    "\n",
    "statesN = len(file_path)\n",
    "colors = [1, 2, 3, 4, 6, 28]\n",
    "\n",
    "#storage containers\n",
    "fileArray=[]\n",
    "plotArray=[]\n",
    "\n",
    "can = TCanvas(\"\", \"\", 1200, 800)\n",
    "legend = TLegend(0.1, 0.6, 0.45, 0.95)\n",
    "\n",
    "for i_state in range(0, statesN):\n",
    "    \n",
    "    file = TFile.Open(file_path[i_state])\n",
    "    fileArray.append(file)\n",
    "        \n",
    "    #Get the source TH1/TH2 (differnt rule for data)\n",
    "#     if(i_state==0):\n",
    "#         path = \"QualityCuts/AfterCuts/Tracks/P\"\n",
    "#     else:\n",
    "#         path = \"TrackSummaryS12/FitResults/P\"\n",
    "#     path=\"Extrapolation/vertices/station12/h_radialPos\"\n",
    "    path=\"TrackSummaryS12/nPlanesHit/nPlanesHit\"\n",
    "#     print(path)\n",
    "    \n",
    "    plot = file.Get(path)\n",
    "    plotArray.append(plot)\n",
    "    \n",
    "#     print(plot)\n",
    "    \n",
    "    #Normalise w.r.t to data \n",
    "    plot.Rebin(2)\n",
    "    norm = plot.GetEntries();\n",
    "    plot.Scale(1/norm); # normalise the histo \n",
    "    plot.GetYaxis().SetTitle(\"Enteries (Normalised 1/N)\")\n",
    "    plot.SetTitle(\"\")\n",
    "    \n",
    "    if(i_state == 0):\n",
    "        plot.Draw(\"hist\")\n",
    "#         pass\n",
    "#     elif (i_state == 0):\n",
    "#         plot.Draw(\"E1\")\n",
    "    else:\n",
    "        plot.Draw(\"same hist\")\n",
    "        \n",
    "    plot.SetLineColor(int(colors[i_state]))\n",
    "    legend.AddEntry(plot, name_legend[i_state]+\" <x>:\"+str(round( plot.GetMean()) ) + \" mm\" )\n",
    "    gStyle.SetOptStat(0)\n",
    "    gStyle.SetErrorX(0)\n",
    "    plot.GetYaxis().SetRangeUser(0.0, 0.07)\n",
    "    plot.GetXaxis().SetRangeUser(-50, 50)\n",
    "    plot.SetMarkerStyle(20)\n",
    "    plot.SetMarkerSize(1.5)\n",
    "    plot.SetLineWidth(3)\n",
    "    plot.SetMarkerColor(int(colors[i_state]))\n",
    "    \n",
    "    \n",
    "    \n",
    "legend.Draw()\n",
    "can.Draw() "
   ]
  },
  {
   "cell_type": "code",
   "execution_count": null,
   "metadata": {},
   "outputs": [],
   "source": []
  }
 ],
 "metadata": {
  "kernelspec": {
   "display_name": "Python 3",
   "language": "python",
   "name": "python3"
  },
  "language_info": {
   "codemirror_mode": {
    "name": "ipython",
    "version": 3
   },
   "file_extension": ".py",
   "mimetype": "text/x-python",
   "name": "python",
   "nbconvert_exporter": "python",
   "pygments_lexer": "ipython3",
   "version": "3.7.3"
  }
 },
 "nbformat": 4,
 "nbformat_minor": 2
}
